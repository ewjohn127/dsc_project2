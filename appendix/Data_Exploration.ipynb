{
 "cells": [
  {
   "cell_type": "markdown",
   "source": [
    "## Data Exploration"
   ],
   "metadata": {}
  },
  {
   "cell_type": "code",
   "execution_count": 10,
   "source": [
    "import pandas as pd\n",
    "import numpy as np\n",
    "from scipy import stats\n",
    "from sklearn.preprocessing import OneHotEncoder\n",
    "df = pd.read_csv('../data/kc_house_data.csv')"
   ],
   "outputs": [],
   "metadata": {}
  },
  {
   "cell_type": "code",
   "execution_count": 11,
   "source": [
    "# Functions to help convert our object datatypes into int64 / float\n",
    "# Convert 'waterfront' column to 0's and 1's to represent 'NO' and 'YES'\n",
    "def map_waterfront_bool(arr):\n",
    "    if arr == 'YES':\n",
    "        return 1\n",
    "    elif arr == 'NO':\n",
    "        return 0\n",
    "\n",
    "# Convert 'condition' column into an int64 format from object\n",
    "def condition_conv(vals):\n",
    "    if vals == 'Very Good':\n",
    "        return 5\n",
    "    elif vals == 'Good':\n",
    "        return 4\n",
    "    elif vals == 'Average':\n",
    "        return 3\n",
    "    elif vals == 'Fair':\n",
    "        return 2\n",
    "    elif vals == 'Poor':\n",
    "        return 1\n",
    "\n",
    "# Convert the '?' from \"sqft_basement\" column to 0 (best to assume they do not have a basement)\n",
    "def sqft_question(sqft):\n",
    "    if sqft == '?':\n",
    "        return 0\n",
    "    else:\n",
    "        return sqft\n",
    "\n",
    "# Convert all 'NONE' views to 0's in order to represent it in a boolean form\n",
    "def view_bool(views):\n",
    "    if views == 'NONE':\n",
    "        return 0\n",
    "    else:\n",
    "        return 1\n",
    "\n",
    "def basement_conv(basement):\n",
    "    if basement > 0:\n",
    "        return 1\n",
    "    else:\n",
    "        return 0\n",
    "    \n",
    "def renovate(yr_reno):\n",
    "    if yr_reno > 2001:\n",
    "        return 1\n",
    "    else:\n",
    "        return 0\n",
    "\n",
    "def bool_to_num(x):\n",
    "    if x:\n",
    "        return 1\n",
    "    else:\n",
    "        return 0\n",
    "\n",
    "def density(zipcode):\n",
    "    if zipcode in seattle:\n",
    "        return 0\n",
    "    elif zipcode in suburbs:\n",
    "        return 1\n",
    "    else:\n",
    "        return 2\n",
    "\n",
    "# Convert 'date' column into int64 with year | Unnecessary as we dont really care about the posted date\n",
    "# Columns for renovation year and built year are much more relevant.\n",
    "df['date'] = df['date'].str[5:]\n",
    "df['date'] = df['date'].str.replace('/','').astype(np.int64)"
   ],
   "outputs": [],
   "metadata": {}
  },
  {
   "cell_type": "code",
   "execution_count": 12,
   "source": [
    "# Call all functions to turn data into a manipulatable format\n",
    "# First fill missing values in 'waterfront' column to 'NO'\n",
    "df['waterfront'].fillna('NO', inplace = True)\n",
    "df['waterfront'] = df['waterfront'].map(map_waterfront_bool)\n",
    "df['condition'] = df['condition'].map(condition_conv)\n",
    "df['sqft_basement'] = df['sqft_basement'].map(sqft_question).astype(float)\n",
    "df['grade'] = df['grade'].str[:2].astype(np.int64)\n",
    "df['view'] = df['view'].map(view_bool)\n",
    "df['sqft_basement'] = df['sqft_basement'].map(basement_conv)\n",
    "# Rename column to more accurately label our new datatype\n",
    "df.rename({'sqft_basement': 'has_basement'}, inplace = True, axis = 1)\n",
    "df['yr_renovated'] = df['yr_renovated'].map(renovate)\n",
    "\n",
    "# Defining a limitation so Folium doesn't crash this notebook\n",
    "df_below_par = df[df['condition'] < 3]"
   ],
   "outputs": [],
   "metadata": {}
  },
  {
   "cell_type": "markdown",
   "source": [
    "## Feature Engineering"
   ],
   "metadata": {}
  },
  {
   "cell_type": "code",
   "execution_count": 13,
   "source": [
    "df['relative_living_area'] = df['sqft_living'] / df['sqft_living15']\n",
    "df['relative_lot_area'] = df['sqft_lot'] / df['sqft_lot15']"
   ],
   "outputs": [],
   "metadata": {}
  },
  {
   "cell_type": "code",
   "execution_count": 14,
   "source": [
    "seattle = [\n",
    "    98133, 98125, 98117, 98103, 98115, 98105, 98107, 98199, 98119, \\\n",
    "    98109, 98102, 98112, 98121, 98101, 98154, 98104, 98122, 98144, 98134, 98116, \\\n",
    "    98136, 98126, 98106, 98144, 98118, 98108\n",
    "]\n",
    "suburbs = [\n",
    "    98177, 98160, 98155, 98028, 98011, 98072, 98052, 98034, 98033, 98039, \\\n",
    "    98004, 98005, 98007, 98008, 98074, 98075, 98029, 98056, 98178, 98146,\\\n",
    "    98166, 98148, 98158, 98188, 98057, 98055, 98031, 98032, 98198, \\\n",
    "    98023, 98003, 98001, 98047, 98002, 98030, 98042, 98168, 98040, 98006, \\\n",
    "    98059, 98058, 98077, 98053\n",
    "]\n",
    "\n",
    "df['city_type'] = df['zipcode'].map(density)"
   ],
   "outputs": [],
   "metadata": {}
  },
  {
   "cell_type": "code",
   "execution_count": 15,
   "source": [
    "ohe = OneHotEncoder(drop='first')\n",
    "city_type_trans = ohe.fit_transform(df[['city_type']])\n",
    "city_type_df = pd.DataFrame(city_type_trans.todense(),columns=ohe.get_feature_names())"
   ],
   "outputs": [],
   "metadata": {}
  },
  {
   "cell_type": "code",
   "execution_count": 16,
   "source": [
    "df.reset_index(drop=True,inplace=True)\n",
    "city_type_df.reset_index(drop=True,inplace=True)\n",
    "df_fin = pd.concat((df,city_type_df),axis=1)"
   ],
   "outputs": [],
   "metadata": {}
  },
  {
   "cell_type": "markdown",
   "source": [
    "## Dropping Rows Outside Of Three Standard Deviations for Key Numerical Input Variables"
   ],
   "metadata": {}
  },
  {
   "cell_type": "code",
   "execution_count": 17,
   "source": [
    "df_prospects = df_fin[(np.abs(stats.zscore(df_fin['price'])) < 3)].copy(deep=True)\n",
    "df_prospects = df_prospects[(np.abs(stats.zscore(df_prospects['bedrooms'])) < 3)]\n",
    "df_prospects = df_prospects[(np.abs(stats.zscore(df_prospects['floors'])) < 3)]\n",
    "df_prospects = df_prospects[(np.abs(stats.zscore(df_prospects['sqft_living'])) < 3)]\n",
    "df_prospects = df_prospects[(np.abs(stats.zscore(df_prospects['bathrooms'])) < 3)]\n",
    "df_prospects = df_prospects[(np.abs(stats.zscore(df_prospects['sqft_lot'])) < 3)]\n",
    "\n",
    "df_prospects.rename({'x0_1':'suburb','x0_2':'rural'},axis=1,inplace=True)\n",
    "df_prospects.drop(['city_type'],axis=1,inplace=True)"
   ],
   "outputs": [],
   "metadata": {}
  },
  {
   "cell_type": "markdown",
   "source": [
    "## Exporting To CSV"
   ],
   "metadata": {}
  },
  {
   "cell_type": "code",
   "execution_count": 18,
   "source": [
    "df_prospects.to_csv('../data/cleaned_data.csv')\n",
    "df_prospects.shape"
   ],
   "outputs": [
    {
     "output_type": "execute_result",
     "data": {
      "text/plain": [
       "(20530, 25)"
      ]
     },
     "metadata": {},
     "execution_count": 18
    }
   ],
   "metadata": {}
  }
 ],
 "metadata": {
  "interpreter": {
   "hash": "dca0ade3e726a953b501b15e8e990130d2b7799f14cfd9f4271676035ebe5511"
  },
  "kernelspec": {
   "name": "python3",
   "display_name": "Python 3.8.5 64-bit ('base': conda)"
  },
  "language_info": {
   "codemirror_mode": {
    "name": "ipython",
    "version": 3
   },
   "file_extension": ".py",
   "mimetype": "text/x-python",
   "name": "python",
   "nbconvert_exporter": "python",
   "pygments_lexer": "ipython3",
   "version": "3.8.5"
  }
 },
 "nbformat": 4,
 "nbformat_minor": 4
}