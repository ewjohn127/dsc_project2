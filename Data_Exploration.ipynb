{
 "cells": [
  {
   "cell_type": "code",
   "execution_count": 35,
   "source": [
    "# New notebook because Folium crashed the studnet.ipynb\n",
    "import pandas as pd\n",
    "import numpy as np\n",
    "from scipy import stats\n",
    "df = pd.read_csv('data/kc_house_data.csv')"
   ],
   "outputs": [],
   "metadata": {}
  },
  {
   "cell_type": "code",
   "execution_count": 36,
   "source": [
    "# Functions to help convert our object datatypes into int64 / float\n",
    "# Convert 'waterfront' column to 0's and 1's to represent 'NO' and 'YES'\n",
    "def map_waterfront_bool(arr):\n",
    "    if arr == 'YES':\n",
    "        return 1\n",
    "    elif arr == 'NO':\n",
    "        return 0\n",
    "\n",
    "# Convert 'condition' column into an int64 format from object\n",
    "def condition_conv(vals):\n",
    "    if vals == 'Very Good':\n",
    "        return 5\n",
    "    elif vals == 'Good':\n",
    "        return 4\n",
    "    elif vals == 'Average':\n",
    "        return 3\n",
    "    elif vals == 'Fair':\n",
    "        return 2\n",
    "    elif vals == 'Poor':\n",
    "        return 1\n",
    "\n",
    "# Convert the '?' from \"sqft_basement\" column to 0 (best to assume they do not have a basement)\n",
    "def sqft_question(sqft):\n",
    "    if sqft == '?':\n",
    "        return 0\n",
    "    else:\n",
    "        return sqft\n",
    "\n",
    "# Convert all 'NONE' views to 0's in order to represent it in a boolean form\n",
    "def view_bool(views):\n",
    "    if views == 'NONE':\n",
    "        return 0\n",
    "    else:\n",
    "        return 1\n",
    "\n",
    "def basement_conv(basement):\n",
    "    if basement > 0:\n",
    "        return 1\n",
    "    else:\n",
    "        return 0\n",
    "    \n",
    "def renovate(yr_reno):\n",
    "    if yr_reno > 2001:\n",
    "        return 1\n",
    "    else:\n",
    "        return 0\n",
    "\n",
    "def bool_to_num(x):\n",
    "    if x:\n",
    "        return 1\n",
    "    else:\n",
    "        return 0\n",
    "\n",
    "# Convert 'date' column into int64 with year | Unnecessary as we dont really care about the posted date\n",
    "# Columns for renovation year and built year are much more relevant.\n",
    "df['date'] = df['date'].str[5:]\n",
    "df['date'] = df['date'].str.replace('/','').astype(np.int64)"
   ],
   "outputs": [],
   "metadata": {}
  },
  {
   "cell_type": "code",
   "execution_count": 37,
   "source": [
    "# Call all functions to turn data into a manipulatable format\n",
    "# First fill missing values in 'waterfront' column to 'NO'\n",
    "df['waterfront'].fillna('NO', inplace = True)\n",
    "df['waterfront'] = df['waterfront'].map(map_waterfront_bool)\n",
    "df['condition'] = df['condition'].map(condition_conv)\n",
    "df['sqft_basement'] = df['sqft_basement'].map(sqft_question).astype(float)\n",
    "df['grade'] = df['grade'].str[:2].astype(np.int64)\n",
    "df['view'] = df['view'].map(view_bool)\n",
    "df['sqft_basement'] = df['sqft_basement'].map(basement_conv)\n",
    "# Rename column to more accurately label our new datatype\n",
    "df.rename({'sqft_basement': 'has_basement'}, inplace = True, axis = 1)\n",
    "df['yr_renovated'] = df['yr_renovated'].map(renovate)\n",
    "\n",
    "# Defining a limitation so Folium doesn't crash this notebook\n",
    "df_below_par = df[df['condition'] < 3]"
   ],
   "outputs": [],
   "metadata": {}
  },
  {
   "cell_type": "code",
   "execution_count": 38,
   "source": [
    "df['living_area'] = df['sqft_living'] / df['sqft_living15']"
   ],
   "outputs": [],
   "metadata": {}
  },
  {
   "cell_type": "code",
   "execution_count": 39,
   "source": [
    "df_prospects = df[(np.abs(stats.zscore(df['price'])) < 3)].copy(deep=True)\n",
    "df_prospects = df[(np.abs(stats.zscore(df['bedrooms'])) < 3)].copy(deep=True)\n",
    "df_prospects = df[(np.abs(stats.zscore(df['floors'])) < 3)].copy(deep=True)\n",
    "df_prospects = df[(np.abs(stats.zscore(df['sqft_living'])) < 3)].copy(deep=True)\n",
    "df_prospects = df[(np.abs(stats.zscore(df['bathrooms'])) < 3)].copy(deep=True)\n",
    "df_prospects = df[(np.abs(stats.zscore(df['sqft_lot'])) < 3)].copy(deep=True)\n",
    "\n",
    "df_prospects['Seattle'] = (df_prospects['lat'] < 47.777799)   & (df_prospects['lat'] > 47.503347) &\\\n",
    "                          (df_prospects['long'] > -122.419374) & (df_prospects['long'] < -122.255819)\n",
    "df_prospects['Seattle'] = df_prospects['Seattle'].map(bool_to_num)\n",
    "\n",
    "df_prospects.to_csv('data/cleaned_data.csv')\n",
    "df_prospects.shape"
   ],
   "outputs": [
    {
     "output_type": "execute_result",
     "data": {
      "text/plain": [
       "(21251, 23)"
      ]
     },
     "metadata": {},
     "execution_count": 39
    }
   ],
   "metadata": {}
  }
 ],
 "metadata": {
  "kernelspec": {
   "name": "python3",
   "display_name": "Python 3.8.5 64-bit ('learn-env': conda)"
  },
  "language_info": {
   "codemirror_mode": {
    "name": "ipython",
    "version": 3
   },
   "file_extension": ".py",
   "mimetype": "text/x-python",
   "name": "python",
   "nbconvert_exporter": "python",
   "pygments_lexer": "ipython3",
   "version": "3.8.5"
  },
  "interpreter": {
   "hash": "c15d3b161d9e31d3c14101c293414707f40e59d6cae0bbd6b708ca3d1e942f6f"
  }
 },
 "nbformat": 4,
 "nbformat_minor": 4
}