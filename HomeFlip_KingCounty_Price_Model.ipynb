{
 "cells": [
  {
   "cell_type": "markdown",
   "source": [
    "# Home Flipping Price Model for King County, Washington, USA"
   ],
   "metadata": {}
  },
  {
   "cell_type": "markdown",
   "source": [
    "![Home Flip](https://www.jaxdailyrecord.com/sites/default/files/styles/sliders_and_planned_story_image_870x580/public/196536_standard.png?itok=Gr72b8cv)"
   ],
   "metadata": {}
  },
  {
   "cell_type": "markdown",
   "source": [
    "## Business Understanding"
   ],
   "metadata": {}
  },
  {
   "cell_type": "markdown",
   "source": [
    "### Goal: Provide our house flipping company with **\"Cookie Cutter House\"** focused price model to better understand the variability in home price of King County Washington, USA\n",
    "\n",
    "Our Stakeholder is a home flipping company. House flipping (Flipping) is the process of purchasing property in residential real estate, renovating the property and then selling for profit. \n",
    "\n",
    "70% Rule\n",
    "\n",
    "The best practice rule for house flipping is the 70% model. That is the amount spent on purchasing the home and it's renovations should be no more than 70% of the after-repair-value of the home. It's therefore extremely important to know what a home is worth as the purchasing price of the home makes up a majority of the budget.\n",
    "\n",
    "The Cookie Cutter Model\n",
    "\n",
    "The goal in house flipping is not to set a home apart from those around it but bring homes that are underperforming price-wise up to par with the surrounding neighborhood. The neighborhood determines the buying power of potential residents.\n",
    "\n",
    "As explained, **neighborhood** and **renovation** are important factors for home flipping. The input variables for the home price model needed to relate to these factors.\n",
    "\n",
    "\n",
    "\n",
    "\n"
   ],
   "metadata": {}
  },
  {
   "cell_type": "code",
   "execution_count": 11,
   "source": [
    "import pandas as pd\n",
    "import numpy as np\n",
    "from scipy import stats\n",
    "from sklearn.preprocessing import OneHotEncoder"
   ],
   "outputs": [],
   "metadata": {}
  },
  {
   "cell_type": "markdown",
   "source": [
    "## Exploratory Data Analysis"
   ],
   "metadata": {}
  },
  {
   "cell_type": "markdown",
   "source": [
    "The data used in this model is from a 2014-2015 house sales in King County, Washington, USA dataset"
   ],
   "metadata": {}
  },
  {
   "cell_type": "code",
   "execution_count": 12,
   "source": [
    "# Read in Dataset\n",
    "\n",
    "df = pd.read_csv('data/kc_house_data.csv')\n",
    "df.info()"
   ],
   "outputs": [
    {
     "output_type": "stream",
     "name": "stdout",
     "text": [
      "<class 'pandas.core.frame.DataFrame'>\n",
      "RangeIndex: 21597 entries, 0 to 21596\n",
      "Data columns (total 21 columns):\n",
      " #   Column         Non-Null Count  Dtype  \n",
      "---  ------         --------------  -----  \n",
      " 0   id             21597 non-null  int64  \n",
      " 1   date           21597 non-null  object \n",
      " 2   price          21597 non-null  float64\n",
      " 3   bedrooms       21597 non-null  int64  \n",
      " 4   bathrooms      21597 non-null  float64\n",
      " 5   sqft_living    21597 non-null  int64  \n",
      " 6   sqft_lot       21597 non-null  int64  \n",
      " 7   floors         21597 non-null  float64\n",
      " 8   waterfront     19221 non-null  object \n",
      " 9   view           21534 non-null  object \n",
      " 10  condition      21597 non-null  object \n",
      " 11  grade          21597 non-null  object \n",
      " 12  sqft_above     21597 non-null  int64  \n",
      " 13  sqft_basement  21597 non-null  object \n",
      " 14  yr_built       21597 non-null  int64  \n",
      " 15  yr_renovated   17755 non-null  float64\n",
      " 16  zipcode        21597 non-null  int64  \n",
      " 17  lat            21597 non-null  float64\n",
      " 18  long           21597 non-null  float64\n",
      " 19  sqft_living15  21597 non-null  int64  \n",
      " 20  sqft_lot15     21597 non-null  int64  \n",
      "dtypes: float64(6), int64(9), object(6)\n",
      "memory usage: 3.5+ MB\n"
     ]
    }
   ],
   "metadata": {}
  },
  {
   "cell_type": "markdown",
   "source": [
    "The above features were used to produce a 'model ready' dataset. The entire process can be seen in Data_Exploration.ipynb notebook stored in the Appendix folder. Some of the key changes made:"
   ],
   "metadata": {}
  },
  {
   "cell_type": "markdown",
   "source": [
    "### Removing of Outliers\n",
    "Only data within three standard deviations for all numerical features used in analysis were kept"
   ],
   "metadata": {}
  },
  {
   "cell_type": "code",
   "execution_count": 13,
   "source": [
    "df_cleaned = pd.read_csv('data/cleaned_data.csv')\n",
    "print('Number of Homes Removed:',df.shape[0] - df_cleaned.shape[0],'| Percent of Homes Removed:', round((df.shape[0] - df_cleaned.shape[0])/df.shape[0]*100,2),'%')"
   ],
   "outputs": [
    {
     "output_type": "stream",
     "name": "stdout",
     "text": [
      "Number of Homes Removed: 1067 | Percent of Homes Removed: 4.94 %\n"
     ]
    }
   ],
   "metadata": {}
  },
  {
   "cell_type": "markdown",
   "source": [
    "### Feature Engineering of Relative Living Area\n",
    "\n",
    "To account for the importance of neighborhood to house flipping, a new feature called relative living area was created."
   ],
   "metadata": {}
  },
  {
   "cell_type": "code",
   "execution_count": 14,
   "source": [
    "df['relative_living_area'] = df['sqft_living'] / df['sqft_living15']\n",
    "df['relative_living_area'].describe()"
   ],
   "outputs": [
    {
     "output_type": "execute_result",
     "data": {
      "text/plain": [
       "count    21597.000000\n",
       "mean         1.053144\n",
       "std          0.320311\n",
       "min          0.187279\n",
       "25%          0.881188\n",
       "50%          1.000000\n",
       "75%          1.161039\n",
       "max          6.000000\n",
       "Name: relative_living_area, dtype: float64"
      ]
     },
     "metadata": {},
     "execution_count": 14
    }
   ],
   "metadata": {}
  },
  {
   "cell_type": "markdown",
   "source": [
    "```sqft_living```: The livable space in sqft of the home\n",
    "\n",
    "```sqft_living15```: The average livable space in sqft of nearest 15 houses to the home\n",
    "\n",
    "Taking the quotient gave a new feature which shows the relative amount of living space between a home and its neighbors.\n",
    "\n",
    "![Relative Living Area](images/relative_living.png)"
   ],
   "metadata": {}
  },
  {
   "cell_type": "markdown",
   "source": [
    "## Iterative Modeling"
   ],
   "metadata": {}
  },
  {
   "cell_type": "markdown",
   "source": [
    "### Baseline Model"
   ],
   "metadata": {}
  },
  {
   "cell_type": "markdown",
   "source": [
    "### Simple Model"
   ],
   "metadata": {}
  },
  {
   "cell_type": "markdown",
   "source": [
    "### Final Model"
   ],
   "metadata": {}
  },
  {
   "cell_type": "markdown",
   "source": [
    "## Conclusion"
   ],
   "metadata": {}
  },
  {
   "cell_type": "markdown",
   "source": [
    "## Citations"
   ],
   "metadata": {}
  },
  {
   "cell_type": "markdown",
   "source": [
    "https://info.kingcounty.gov/assessor/esales/Glossary.aspx?type=r\n",
    "\n",
    "https://www.ramseysolutions.com/real-estate/how-to-flip-a-house\n",
    "\n",
    "https://www.investopedia.com/articles/mortgages-real-estate/08/house-flip.asp\n"
   ],
   "metadata": {}
  }
 ],
 "metadata": {
  "orig_nbformat": 4,
  "language_info": {
   "name": "python",
   "version": "3.8.5",
   "mimetype": "text/x-python",
   "codemirror_mode": {
    "name": "ipython",
    "version": 3
   },
   "pygments_lexer": "ipython3",
   "nbconvert_exporter": "python",
   "file_extension": ".py"
  },
  "kernelspec": {
   "name": "python3",
   "display_name": "Python 3.8.5 64-bit ('base': conda)"
  },
  "interpreter": {
   "hash": "dca0ade3e726a953b501b15e8e990130d2b7799f14cfd9f4271676035ebe5511"
  }
 },
 "nbformat": 4,
 "nbformat_minor": 2
}